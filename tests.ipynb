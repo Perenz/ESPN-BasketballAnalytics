{
 "metadata": {
  "language_info": {
   "codemirror_mode": {
    "name": "ipython",
    "version": 3
   },
   "file_extension": ".py",
   "mimetype": "text/x-python",
   "name": "python",
   "nbconvert_exporter": "python",
   "pygments_lexer": "ipython3",
   "version": "3.9.10-final"
  },
  "orig_nbformat": 2,
  "kernelspec": {
   "name": "python39764bit2706365f5c64451294a47ca175105d15",
   "display_name": "Python 3.9.7 64-bit"
  }
 },
 "nbformat": 4,
 "nbformat_minor": 2,
 "cells": [
  {
   "cell_type": "code",
   "execution_count": 1,
   "metadata": {},
   "outputs": [],
   "source": [
    "# Basketball Import\n",
    "from espn_api.basketball import League\n",
    "import json"
   ]
  },
  {
   "cell_type": "code",
   "execution_count": 2,
   "metadata": {
    "tags": []
   },
   "outputs": [],
   "source": [
    "#Retrieve credentials\n",
    "with open(\"credentials.json\", \"r\") as in_f:\n",
    "    credentials = json.load(in_f)"
   ]
  },
  {
   "cell_type": "code",
   "execution_count": 4,
   "metadata": {
    "tags": []
   },
   "outputs": [
    {
     "output_type": "stream",
     "name": "stdout",
     "text": "League(1926157302, 2022)\n"
    }
   ],
   "source": [
    "# 1926157302\n",
    "# public league\n",
    "#league = League(league_id=411647, year=2019)\n",
    "league = League(league_id=1926157302,year=2022)#, epsn_s2=credentials['espn_2'],)#username=credentials['email'], password=credentials['password'])\n",
    "print(league)"
   ]
  },
  {
   "cell_type": "code",
   "execution_count": 7,
   "metadata": {},
   "outputs": [
    {
     "output_type": "execute_result",
     "data": {
      "text/plain": "[Team(Hot Sister Lovers),\n Team(Fibost Nick tasso),\n Team(Team Sega),\n Team(Library Scientists),\n Team(Ball B4 Hoes),\n Team(Teneri Micetti),\n Team(Melta UpBanTrò),\n Team(Drugstoned Crackheads),\n Team(Atletich Shitto),\n Team(All Pain, No Gain),\n Team(Bestie di Satana),\n Team(Tegucigalpa Pangolins),\n Team(Liran Club),\n Team(Passala LA Lungo)]"
     },
     "metadata": {},
     "execution_count": 7
    }
   ],
   "source": [
    "league.teams"
   ]
  },
  {
   "cell_type": "code",
   "execution_count": 10,
   "metadata": {},
   "outputs": [
    {
     "output_type": "execute_result",
     "data": {
      "text/plain": "[Player(James Harden),\n Player(Donovan Mitchell),\n Player(Khris Middleton),\n Player(Kristaps Porzingis),\n Player(Robert Williams III),\n Player(Buddy Hield),\n Player(Mason Plumlee),\n Player(Tyler Herro),\n Player(Daniel Theis),\n Player(Isaac Okoro),\n Player(Victor Oladipo),\n Player(Jonathan Kuminga),\n Player(Bruce Brown),\n Player(Cam Reddish)]"
     },
     "metadata": {},
     "execution_count": 10
    }
   ],
   "source": [
    "my_team = league.teams[3]\n",
    "my_team.roster"
   ]
  },
  {
   "cell_type": "code",
   "execution_count": 13,
   "metadata": {
    "tags": []
   },
   "outputs": [
    {
     "output_type": "stream",
     "name": "stdout",
     "text": "Karl-Anthony Towns DRAFT\nDe'Aaron Fox DRAFT\nJa Morant DRAFT\nPascal Siakam DRAFT\nCJ McCollum DRAFT\nKeldon Johnson DRAFT\nSteven Adams DRAFT\nKyrie Irving DRAFT\nEvan Fournier DRAFT\nEvan Mobley DRAFT\nRoyce O'Neale ADD\nP.J. Tucker ADD\nChris Boucher ADD\n"
    }
   ],
   "source": [
    "for player in league.teams[2].roster:\n",
    "    print(player.name, player.acquisitionType)"
   ]
  },
  {
   "cell_type": "code",
   "execution_count": null,
   "metadata": {},
   "outputs": [],
   "source": []
  }
 ]
}